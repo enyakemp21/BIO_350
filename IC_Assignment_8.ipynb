{
 "cells": [
  {
   "cell_type": "markdown",
   "id": "4f62bbc4",
   "metadata": {},
   "source": [
    "create a program/function that can answer the following questions from CH. 7 in Handbook of Q. Ecology\n",
    "\n",
    "Program that takes input and answers the following questions:\n",
    "- probability we will find 2 eggs om 1 nest we check?\n",
    "- probability team will get 3 nests in a row with 1 egg?\n",
    "- average nr. of eggs per nest?\n",
    "\n",
    "Finally, be able to adjust input parameters:\n",
    "- such as how many nests with 1/2/3 eggs?\n",
    "- how many nests in a row with 1 egg?"
   ]
  },
  {
   "cell_type": "code",
   "execution_count": null,
   "id": "12f40a4f",
   "metadata": {},
   "outputs": [],
   "source": [
    "\n",
    "def nest_statistics(one_egg_nest, two_egg_nest, three_egg_nest):\n",
    "    \"\"\"\n",
    "    Compute nest egg probabilities and averages.\n",
    "\n",
    "    Parameters:\n",
    "    -----------\n",
    "    one egg nest, two egg nest, three egg nest \n",
    "\n",
    "    Returns:\n",
    "    --------\n",
    "    print the answers to the following questions:\n",
    "    1. Probability we will find 2 eggs in 1 nest we check\n",
    "    2. Probability of finding 3 nests in a row with 1 egg\n",
    "    3. Average eggs per nest\n",
    "    \"\"\"\n",
    "    # total number of nests\n",
    "    n1 = one_egg_nest\n",
    "    n2 = two_egg_nest\n",
    "    n3 = three_egg_nest\n",
    "    ntotal_nests = n1 + n2 + n3\n",
    "    \n",
    "    # probabilities\n",
    "    p1 = n1 / ntotal_nests\n",
    "    p2 = n2 / ntotal_nests\n",
    "    p3 = n3 / ntotal_nests\n",
    "\n",
    "    # analytical probability of 2 eggs in one checked nest\n",
    "    prob_2_eggs = p2\n",
    "\n",
    "    # probability of 3 nests in a row with 1 egg (independent draws)\n",
    "    prob_3_in_a_row = p1 ** 3\n",
    "\n",
    "    # average eggs per nest\n",
    "    avg_eggs = (1*n1 + 2*n2 + 3*n3) / ntotal_nests\n",
    "\n",
    "    result = {\n",
    "        \"P(2 eggs in 1 nest)\": prob_2_eggs,\n",
    "        \"P(3 nests in a row with 1 egg)\": prob_3_in_a_row,\n",
    "        \"Average eggs per nest\": avg_eggs\n",
    "    }\n",
    "\n",
    "    return results"
   ]
  },
  {
   "cell_type": "code",
   "execution_count": 2,
   "id": "0343654c",
   "metadata": {},
   "outputs": [
    {
     "data": {
      "text/plain": [
       "{'P(2 eggs in 1 nest)': 0.5471698113207547,\n",
       " 'P(3 nests in a row with 1 egg)': 0.033000396300301583,\n",
       " 'Average eggs per nest': 1.8113207547169812}"
      ]
     },
     "execution_count": 2,
     "metadata": {},
     "output_type": "execute_result"
    }
   ],
   "source": [
    "#call the above function with values #nests_with_1_egg = 17, #nests_with_2_eggs = 29, #nests_with_3_eggs = 7\n",
    "nest_statistics(17, 29, 7)"
   ]
  },
  {
   "cell_type": "code",
   "execution_count": 3,
   "id": "54f2e32c",
   "metadata": {},
   "outputs": [
    {
     "data": {
      "text/plain": [
       "{'P(2 eggs in 1 nest)': 0.7,\n",
       " 'P(3 nests in a row with 1 egg)': 0.008000000000000002,\n",
       " 'Average eggs per nest': 1.9}"
      ]
     },
     "execution_count": 3,
     "metadata": {},
     "output_type": "execute_result"
    }
   ],
   "source": [
    "#call the above function with values #nests_with_1_egg = 4, #nests_with_2_eggs = 14, #nests_with_3_eggs = 2\n",
    "nest_statistics(4, 14, 2)"
   ]
  },
  {
   "cell_type": "code",
   "execution_count": null,
   "id": "dd9d370d",
   "metadata": {},
   "outputs": [],
   "source": []
  }
 ],
 "metadata": {
  "kernelspec": {
   "display_name": "IC_assignments",
   "language": "python",
   "name": "python3"
  },
  "language_info": {
   "codemirror_mode": {
    "name": "ipython",
    "version": 3
   },
   "file_extension": ".py",
   "mimetype": "text/x-python",
   "name": "python",
   "nbconvert_exporter": "python",
   "pygments_lexer": "ipython3",
   "version": "3.13.5"
  }
 },
 "nbformat": 4,
 "nbformat_minor": 5
}
